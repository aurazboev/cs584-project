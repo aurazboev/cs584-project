{
 "cells": [
  {
   "cell_type": "markdown",
   "id": "bf71ef17",
   "metadata": {},
   "source": [
    "# Chicago Crime Analysis "
   ]
  },
  {
   "cell_type": "markdown",
   "id": "23a6062d",
   "metadata": {},
   "source": [
    "### Import  packages"
   ]
  },
  {
   "cell_type": "code",
   "execution_count": 1,
   "id": "afaf8f39",
   "metadata": {
    "execution": {
     "iopub.execute_input": "2023-11-13T21:12:52.817193Z",
     "iopub.status.busy": "2023-11-13T21:12:52.816770Z",
     "iopub.status.idle": "2023-11-13T21:12:56.059151Z",
     "shell.execute_reply": "2023-11-13T21:12:56.057564Z",
     "shell.execute_reply.started": "2023-11-13T21:12:52.817149Z"
    }
   },
   "outputs": [
    {
     "ename": "KeyboardInterrupt",
     "evalue": "",
     "output_type": "error",
     "traceback": [
      "\u001b[0;31m---------------------------------------------------------------------------\u001b[0m",
      "\u001b[0;31mKeyboardInterrupt\u001b[0m                         Traceback (most recent call last)",
      "Cell \u001b[0;32mIn[1], line 1\u001b[0m\n\u001b[0;32m----> 1\u001b[0m \u001b[38;5;28;01mimport\u001b[39;00m \u001b[38;5;21;01mpandas\u001b[39;00m \u001b[38;5;28;01mas\u001b[39;00m \u001b[38;5;21;01mpd\u001b[39;00m\n\u001b[1;32m      2\u001b[0m \u001b[38;5;28;01mimport\u001b[39;00m \u001b[38;5;21;01mnumpy\u001b[39;00m \u001b[38;5;28;01mas\u001b[39;00m \u001b[38;5;21;01mnp\u001b[39;00m\n\u001b[1;32m      3\u001b[0m \u001b[38;5;28;01mimport\u001b[39;00m \u001b[38;5;21;01mmatplotlib\u001b[39;00m\u001b[38;5;21;01m.\u001b[39;00m\u001b[38;5;21;01mpyplot\u001b[39;00m \u001b[38;5;28;01mas\u001b[39;00m \u001b[38;5;21;01mplt\u001b[39;00m\n",
      "File \u001b[0;32m~/opt/anaconda3/lib/python3.9/site-packages/pandas/__init__.py:48\u001b[0m\n\u001b[1;32m     45\u001b[0m \u001b[38;5;66;03m# let init-time option registration happen\u001b[39;00m\n\u001b[1;32m     46\u001b[0m \u001b[38;5;28;01mimport\u001b[39;00m \u001b[38;5;21;01mpandas\u001b[39;00m\u001b[38;5;21;01m.\u001b[39;00m\u001b[38;5;21;01mcore\u001b[39;00m\u001b[38;5;21;01m.\u001b[39;00m\u001b[38;5;21;01mconfig_init\u001b[39;00m  \u001b[38;5;66;03m# pyright: ignore # noqa:F401\u001b[39;00m\n\u001b[0;32m---> 48\u001b[0m \u001b[38;5;28;01mfrom\u001b[39;00m \u001b[38;5;21;01mpandas\u001b[39;00m\u001b[38;5;21;01m.\u001b[39;00m\u001b[38;5;21;01mcore\u001b[39;00m\u001b[38;5;21;01m.\u001b[39;00m\u001b[38;5;21;01mapi\u001b[39;00m \u001b[38;5;28;01mimport\u001b[39;00m (\n\u001b[1;32m     49\u001b[0m     \u001b[38;5;66;03m# dtype\u001b[39;00m\n\u001b[1;32m     50\u001b[0m     ArrowDtype,\n\u001b[1;32m     51\u001b[0m     Int8Dtype,\n\u001b[1;32m     52\u001b[0m     Int16Dtype,\n\u001b[1;32m     53\u001b[0m     Int32Dtype,\n\u001b[1;32m     54\u001b[0m     Int64Dtype,\n\u001b[1;32m     55\u001b[0m     UInt8Dtype,\n\u001b[1;32m     56\u001b[0m     UInt16Dtype,\n\u001b[1;32m     57\u001b[0m     UInt32Dtype,\n\u001b[1;32m     58\u001b[0m     UInt64Dtype,\n\u001b[1;32m     59\u001b[0m     Float32Dtype,\n\u001b[1;32m     60\u001b[0m     Float64Dtype,\n\u001b[1;32m     61\u001b[0m     CategoricalDtype,\n\u001b[1;32m     62\u001b[0m     PeriodDtype,\n\u001b[1;32m     63\u001b[0m     IntervalDtype,\n\u001b[1;32m     64\u001b[0m     DatetimeTZDtype,\n\u001b[1;32m     65\u001b[0m     StringDtype,\n\u001b[1;32m     66\u001b[0m     BooleanDtype,\n\u001b[1;32m     67\u001b[0m     \u001b[38;5;66;03m# missing\u001b[39;00m\n\u001b[1;32m     68\u001b[0m     NA,\n\u001b[1;32m     69\u001b[0m     isna,\n\u001b[1;32m     70\u001b[0m     isnull,\n\u001b[1;32m     71\u001b[0m     notna,\n\u001b[1;32m     72\u001b[0m     notnull,\n\u001b[1;32m     73\u001b[0m     \u001b[38;5;66;03m# indexes\u001b[39;00m\n\u001b[1;32m     74\u001b[0m     Index,\n\u001b[1;32m     75\u001b[0m     CategoricalIndex,\n\u001b[1;32m     76\u001b[0m     RangeIndex,\n\u001b[1;32m     77\u001b[0m     MultiIndex,\n\u001b[1;32m     78\u001b[0m     IntervalIndex,\n\u001b[1;32m     79\u001b[0m     TimedeltaIndex,\n\u001b[1;32m     80\u001b[0m     DatetimeIndex,\n\u001b[1;32m     81\u001b[0m     PeriodIndex,\n\u001b[1;32m     82\u001b[0m     IndexSlice,\n\u001b[1;32m     83\u001b[0m     \u001b[38;5;66;03m# tseries\u001b[39;00m\n\u001b[1;32m     84\u001b[0m     NaT,\n\u001b[1;32m     85\u001b[0m     Period,\n\u001b[1;32m     86\u001b[0m     period_range,\n\u001b[1;32m     87\u001b[0m     Timedelta,\n\u001b[1;32m     88\u001b[0m     timedelta_range,\n\u001b[1;32m     89\u001b[0m     Timestamp,\n\u001b[1;32m     90\u001b[0m     date_range,\n\u001b[1;32m     91\u001b[0m     bdate_range,\n\u001b[1;32m     92\u001b[0m     Interval,\n\u001b[1;32m     93\u001b[0m     interval_range,\n\u001b[1;32m     94\u001b[0m     DateOffset,\n\u001b[1;32m     95\u001b[0m     \u001b[38;5;66;03m# conversion\u001b[39;00m\n\u001b[1;32m     96\u001b[0m     to_numeric,\n\u001b[1;32m     97\u001b[0m     to_datetime,\n\u001b[1;32m     98\u001b[0m     to_timedelta,\n\u001b[1;32m     99\u001b[0m     \u001b[38;5;66;03m# misc\u001b[39;00m\n\u001b[1;32m    100\u001b[0m     Flags,\n\u001b[1;32m    101\u001b[0m     Grouper,\n\u001b[1;32m    102\u001b[0m     factorize,\n\u001b[1;32m    103\u001b[0m     unique,\n\u001b[1;32m    104\u001b[0m     value_counts,\n\u001b[1;32m    105\u001b[0m     NamedAgg,\n\u001b[1;32m    106\u001b[0m     array,\n\u001b[1;32m    107\u001b[0m     Categorical,\n\u001b[1;32m    108\u001b[0m     set_eng_float_format,\n\u001b[1;32m    109\u001b[0m     Series,\n\u001b[1;32m    110\u001b[0m     DataFrame,\n\u001b[1;32m    111\u001b[0m )\n\u001b[1;32m    113\u001b[0m \u001b[38;5;28;01mfrom\u001b[39;00m \u001b[38;5;21;01mpandas\u001b[39;00m\u001b[38;5;21;01m.\u001b[39;00m\u001b[38;5;21;01mcore\u001b[39;00m\u001b[38;5;21;01m.\u001b[39;00m\u001b[38;5;21;01marrays\u001b[39;00m\u001b[38;5;21;01m.\u001b[39;00m\u001b[38;5;21;01msparse\u001b[39;00m \u001b[38;5;28;01mimport\u001b[39;00m SparseDtype\n\u001b[1;32m    115\u001b[0m \u001b[38;5;28;01mfrom\u001b[39;00m \u001b[38;5;21;01mpandas\u001b[39;00m\u001b[38;5;21;01m.\u001b[39;00m\u001b[38;5;21;01mtseries\u001b[39;00m\u001b[38;5;21;01m.\u001b[39;00m\u001b[38;5;21;01mapi\u001b[39;00m \u001b[38;5;28;01mimport\u001b[39;00m infer_freq\n",
      "File \u001b[0;32m~/opt/anaconda3/lib/python3.9/site-packages/pandas/core/api.py:27\u001b[0m\n\u001b[1;32m     15\u001b[0m \u001b[38;5;28;01mfrom\u001b[39;00m \u001b[38;5;21;01mpandas\u001b[39;00m\u001b[38;5;21;01m.\u001b[39;00m\u001b[38;5;21;01mcore\u001b[39;00m\u001b[38;5;21;01m.\u001b[39;00m\u001b[38;5;21;01mdtypes\u001b[39;00m\u001b[38;5;21;01m.\u001b[39;00m\u001b[38;5;21;01mmissing\u001b[39;00m \u001b[38;5;28;01mimport\u001b[39;00m (\n\u001b[1;32m     16\u001b[0m     isna,\n\u001b[1;32m     17\u001b[0m     isnull,\n\u001b[1;32m     18\u001b[0m     notna,\n\u001b[1;32m     19\u001b[0m     notnull,\n\u001b[1;32m     20\u001b[0m )\n\u001b[1;32m     22\u001b[0m \u001b[38;5;28;01mfrom\u001b[39;00m \u001b[38;5;21;01mpandas\u001b[39;00m\u001b[38;5;21;01m.\u001b[39;00m\u001b[38;5;21;01mcore\u001b[39;00m\u001b[38;5;21;01m.\u001b[39;00m\u001b[38;5;21;01malgorithms\u001b[39;00m \u001b[38;5;28;01mimport\u001b[39;00m (\n\u001b[1;32m     23\u001b[0m     factorize,\n\u001b[1;32m     24\u001b[0m     unique,\n\u001b[1;32m     25\u001b[0m     value_counts,\n\u001b[1;32m     26\u001b[0m )\n\u001b[0;32m---> 27\u001b[0m \u001b[38;5;28;01mfrom\u001b[39;00m \u001b[38;5;21;01mpandas\u001b[39;00m\u001b[38;5;21;01m.\u001b[39;00m\u001b[38;5;21;01mcore\u001b[39;00m\u001b[38;5;21;01m.\u001b[39;00m\u001b[38;5;21;01marrays\u001b[39;00m \u001b[38;5;28;01mimport\u001b[39;00m Categorical\n\u001b[1;32m     28\u001b[0m \u001b[38;5;28;01mfrom\u001b[39;00m \u001b[38;5;21;01mpandas\u001b[39;00m\u001b[38;5;21;01m.\u001b[39;00m\u001b[38;5;21;01mcore\u001b[39;00m\u001b[38;5;21;01m.\u001b[39;00m\u001b[38;5;21;01marrays\u001b[39;00m\u001b[38;5;21;01m.\u001b[39;00m\u001b[38;5;21;01marrow\u001b[39;00m \u001b[38;5;28;01mimport\u001b[39;00m ArrowDtype\n\u001b[1;32m     29\u001b[0m \u001b[38;5;28;01mfrom\u001b[39;00m \u001b[38;5;21;01mpandas\u001b[39;00m\u001b[38;5;21;01m.\u001b[39;00m\u001b[38;5;21;01mcore\u001b[39;00m\u001b[38;5;21;01m.\u001b[39;00m\u001b[38;5;21;01marrays\u001b[39;00m\u001b[38;5;21;01m.\u001b[39;00m\u001b[38;5;21;01mboolean\u001b[39;00m \u001b[38;5;28;01mimport\u001b[39;00m BooleanDtype\n",
      "File \u001b[0;32m~/opt/anaconda3/lib/python3.9/site-packages/pandas/core/arrays/__init__.py:1\u001b[0m\n\u001b[0;32m----> 1\u001b[0m \u001b[38;5;28;01mfrom\u001b[39;00m \u001b[38;5;21;01mpandas\u001b[39;00m\u001b[38;5;21;01m.\u001b[39;00m\u001b[38;5;21;01mcore\u001b[39;00m\u001b[38;5;21;01m.\u001b[39;00m\u001b[38;5;21;01marrays\u001b[39;00m\u001b[38;5;21;01m.\u001b[39;00m\u001b[38;5;21;01marrow\u001b[39;00m \u001b[38;5;28;01mimport\u001b[39;00m ArrowExtensionArray\n\u001b[1;32m      2\u001b[0m \u001b[38;5;28;01mfrom\u001b[39;00m \u001b[38;5;21;01mpandas\u001b[39;00m\u001b[38;5;21;01m.\u001b[39;00m\u001b[38;5;21;01mcore\u001b[39;00m\u001b[38;5;21;01m.\u001b[39;00m\u001b[38;5;21;01marrays\u001b[39;00m\u001b[38;5;21;01m.\u001b[39;00m\u001b[38;5;21;01mbase\u001b[39;00m \u001b[38;5;28;01mimport\u001b[39;00m (\n\u001b[1;32m      3\u001b[0m     ExtensionArray,\n\u001b[1;32m      4\u001b[0m     ExtensionOpsMixin,\n\u001b[1;32m      5\u001b[0m     ExtensionScalarOpsMixin,\n\u001b[1;32m      6\u001b[0m )\n\u001b[1;32m      7\u001b[0m \u001b[38;5;28;01mfrom\u001b[39;00m \u001b[38;5;21;01mpandas\u001b[39;00m\u001b[38;5;21;01m.\u001b[39;00m\u001b[38;5;21;01mcore\u001b[39;00m\u001b[38;5;21;01m.\u001b[39;00m\u001b[38;5;21;01marrays\u001b[39;00m\u001b[38;5;21;01m.\u001b[39;00m\u001b[38;5;21;01mboolean\u001b[39;00m \u001b[38;5;28;01mimport\u001b[39;00m BooleanArray\n",
      "File \u001b[0;32m~/opt/anaconda3/lib/python3.9/site-packages/pandas/core/arrays/arrow/__init__.py:1\u001b[0m\n\u001b[0;32m----> 1\u001b[0m \u001b[38;5;28;01mfrom\u001b[39;00m \u001b[38;5;21;01mpandas\u001b[39;00m\u001b[38;5;21;01m.\u001b[39;00m\u001b[38;5;21;01mcore\u001b[39;00m\u001b[38;5;21;01m.\u001b[39;00m\u001b[38;5;21;01marrays\u001b[39;00m\u001b[38;5;21;01m.\u001b[39;00m\u001b[38;5;21;01marrow\u001b[39;00m\u001b[38;5;21;01m.\u001b[39;00m\u001b[38;5;21;01marray\u001b[39;00m \u001b[38;5;28;01mimport\u001b[39;00m ArrowExtensionArray\n\u001b[1;32m      2\u001b[0m \u001b[38;5;28;01mfrom\u001b[39;00m \u001b[38;5;21;01mpandas\u001b[39;00m\u001b[38;5;21;01m.\u001b[39;00m\u001b[38;5;21;01mcore\u001b[39;00m\u001b[38;5;21;01m.\u001b[39;00m\u001b[38;5;21;01marrays\u001b[39;00m\u001b[38;5;21;01m.\u001b[39;00m\u001b[38;5;21;01marrow\u001b[39;00m\u001b[38;5;21;01m.\u001b[39;00m\u001b[38;5;21;01mdtype\u001b[39;00m \u001b[38;5;28;01mimport\u001b[39;00m ArrowDtype\n\u001b[1;32m      4\u001b[0m __all__ \u001b[38;5;241m=\u001b[39m [\u001b[38;5;124m\"\u001b[39m\u001b[38;5;124mArrowDtype\u001b[39m\u001b[38;5;124m\"\u001b[39m, \u001b[38;5;124m\"\u001b[39m\u001b[38;5;124mArrowExtensionArray\u001b[39m\u001b[38;5;124m\"\u001b[39m]\n",
      "File \u001b[0;32m~/opt/anaconda3/lib/python3.9/site-packages/pandas/core/arrays/arrow/array.py:77\u001b[0m\n\u001b[1;32m     75\u001b[0m \u001b[38;5;28;01mif\u001b[39;00m \u001b[38;5;129;01mnot\u001b[39;00m pa_version_under7p0:\n\u001b[1;32m     76\u001b[0m     \u001b[38;5;28;01mimport\u001b[39;00m \u001b[38;5;21;01mpyarrow\u001b[39;00m \u001b[38;5;28;01mas\u001b[39;00m \u001b[38;5;21;01mpa\u001b[39;00m\n\u001b[0;32m---> 77\u001b[0m     \u001b[38;5;28;01mimport\u001b[39;00m \u001b[38;5;21;01mpyarrow\u001b[39;00m\u001b[38;5;21;01m.\u001b[39;00m\u001b[38;5;21;01mcompute\u001b[39;00m \u001b[38;5;28;01mas\u001b[39;00m \u001b[38;5;21;01mpc\u001b[39;00m\n\u001b[1;32m     79\u001b[0m     \u001b[38;5;28;01mfrom\u001b[39;00m \u001b[38;5;21;01mpandas\u001b[39;00m\u001b[38;5;21;01m.\u001b[39;00m\u001b[38;5;21;01mcore\u001b[39;00m\u001b[38;5;21;01m.\u001b[39;00m\u001b[38;5;21;01marrays\u001b[39;00m\u001b[38;5;21;01m.\u001b[39;00m\u001b[38;5;21;01marrow\u001b[39;00m\u001b[38;5;21;01m.\u001b[39;00m\u001b[38;5;21;01m_arrow_utils\u001b[39;00m \u001b[38;5;28;01mimport\u001b[39;00m fallback_performancewarning\n\u001b[1;32m     80\u001b[0m     \u001b[38;5;28;01mfrom\u001b[39;00m \u001b[38;5;21;01mpandas\u001b[39;00m\u001b[38;5;21;01m.\u001b[39;00m\u001b[38;5;21;01mcore\u001b[39;00m\u001b[38;5;21;01m.\u001b[39;00m\u001b[38;5;21;01marrays\u001b[39;00m\u001b[38;5;21;01m.\u001b[39;00m\u001b[38;5;21;01marrow\u001b[39;00m\u001b[38;5;21;01m.\u001b[39;00m\u001b[38;5;21;01mdtype\u001b[39;00m \u001b[38;5;28;01mimport\u001b[39;00m ArrowDtype\n",
      "File \u001b[0;32m~/opt/anaconda3/lib/python3.9/site-packages/pyarrow/compute.py:95\u001b[0m\n\u001b[1;32m     92\u001b[0m \u001b[38;5;28;01mimport\u001b[39;00m \u001b[38;5;21;01mwarnings\u001b[39;00m\n\u001b[1;32m     94\u001b[0m \u001b[38;5;28;01mimport\u001b[39;00m \u001b[38;5;21;01mpyarrow\u001b[39;00m \u001b[38;5;28;01mas\u001b[39;00m \u001b[38;5;21;01mpa\u001b[39;00m\n\u001b[0;32m---> 95\u001b[0m \u001b[38;5;28;01mfrom\u001b[39;00m \u001b[38;5;21;01mpyarrow\u001b[39;00m \u001b[38;5;28;01mimport\u001b[39;00m _compute_docstrings\n\u001b[1;32m     96\u001b[0m \u001b[38;5;28;01mfrom\u001b[39;00m \u001b[38;5;21;01mpyarrow\u001b[39;00m\u001b[38;5;21;01m.\u001b[39;00m\u001b[38;5;21;01mvendored\u001b[39;00m \u001b[38;5;28;01mimport\u001b[39;00m docscrape\n\u001b[1;32m     99\u001b[0m \u001b[38;5;28;01mdef\u001b[39;00m \u001b[38;5;21m_get_arg_names\u001b[39m(func):\n",
      "File \u001b[0;32m<frozen importlib._bootstrap>:1007\u001b[0m, in \u001b[0;36m_find_and_load\u001b[0;34m(name, import_)\u001b[0m\n",
      "File \u001b[0;32m<frozen importlib._bootstrap>:986\u001b[0m, in \u001b[0;36m_find_and_load_unlocked\u001b[0;34m(name, import_)\u001b[0m\n",
      "File \u001b[0;32m<frozen importlib._bootstrap>:680\u001b[0m, in \u001b[0;36m_load_unlocked\u001b[0;34m(spec)\u001b[0m\n",
      "File \u001b[0;32m<frozen importlib._bootstrap_external>:846\u001b[0m, in \u001b[0;36mexec_module\u001b[0;34m(self, module)\u001b[0m\n",
      "File \u001b[0;32m<frozen importlib._bootstrap_external>:941\u001b[0m, in \u001b[0;36mget_code\u001b[0;34m(self, fullname)\u001b[0m\n",
      "File \u001b[0;32m<frozen importlib._bootstrap_external>:1039\u001b[0m, in \u001b[0;36mget_data\u001b[0;34m(self, path)\u001b[0m\n",
      "\u001b[0;31mKeyboardInterrupt\u001b[0m: "
     ]
    }
   ],
   "source": [
    "import pandas as pd\n",
    "import numpy as np\n",
    "import matplotlib.pyplot as plt\n",
    "import plotly.express as px\n",
    "import plotly.graph_objects as go\n",
    "from plotly.subplots import make_subplots\n",
    "pd.options.mode.chained_assignment = None "
   ]
  },
  {
   "cell_type": "markdown",
   "id": "5a8be2b7",
   "metadata": {},
   "source": [
    "### Reading Crimes - 2001 to Present"
   ]
  },
  {
   "cell_type": "code",
   "execution_count": null,
   "id": "66378dc1",
   "metadata": {
    "execution": {
     "iopub.execute_input": "2023-11-13T21:12:56.061353Z",
     "iopub.status.busy": "2023-11-13T21:12:56.060904Z",
     "iopub.status.idle": "2023-11-13T21:12:56.274271Z",
     "shell.execute_reply": "2023-11-13T21:12:56.263816Z",
     "shell.execute_reply.started": "2023-11-13T21:12:56.061311Z"
    }
   },
   "outputs": [],
   "source": [
    "df = pd.read_csv(\"Crimes_-_2001_to_Present.csv\")"
   ]
  },
  {
   "cell_type": "code",
   "execution_count": null,
   "id": "7930e093",
   "metadata": {
    "execution": {
     "iopub.status.busy": "2023-11-13T21:12:56.275380Z",
     "iopub.status.idle": "2023-11-13T21:12:56.276394Z",
     "shell.execute_reply": "2023-11-13T21:12:56.276077Z",
     "shell.execute_reply.started": "2023-11-13T21:12:56.276019Z"
    }
   },
   "outputs": [],
   "source": [
    "df.columns"
   ]
  },
  {
   "cell_type": "code",
   "execution_count": null,
   "id": "241e0007",
   "metadata": {
    "execution": {
     "iopub.status.busy": "2023-11-13T21:12:56.278543Z",
     "iopub.status.idle": "2023-11-13T21:12:56.279423Z",
     "shell.execute_reply": "2023-11-13T21:12:56.279201Z",
     "shell.execute_reply.started": "2023-11-13T21:12:56.279173Z"
    },
    "scrolled": false
   },
   "outputs": [],
   "source": [
    "df.head()"
   ]
  },
  {
   "cell_type": "markdown",
   "id": "91e73de9",
   "metadata": {},
   "source": [
    "### Filtering attributes which can be used for classification"
   ]
  },
  {
   "cell_type": "code",
   "execution_count": null,
   "id": "9b225d99",
   "metadata": {
    "execution": {
     "iopub.status.busy": "2023-11-13T21:12:56.280890Z",
     "iopub.status.idle": "2023-11-13T21:12:56.281740Z",
     "shell.execute_reply": "2023-11-13T21:12:56.281531Z",
     "shell.execute_reply.started": "2023-11-13T21:12:56.281504Z"
    },
    "scrolled": false
   },
   "outputs": [],
   "source": [
    "df = df[['Date', 'Primary Type', 'Location Description', 'Arrest', 'Domestic', 'Community Area', 'Year']]"
   ]
  },
  {
   "cell_type": "code",
   "execution_count": null,
   "id": "8beb4cc2",
   "metadata": {
    "execution": {
     "iopub.status.busy": "2023-11-13T21:12:56.283180Z",
     "iopub.status.idle": "2023-11-13T21:12:56.283658Z",
     "shell.execute_reply": "2023-11-13T21:12:56.283458Z",
     "shell.execute_reply.started": "2023-11-13T21:12:56.283434Z"
    },
    "scrolled": false
   },
   "outputs": [],
   "source": [
    "df"
   ]
  },
  {
   "cell_type": "markdown",
   "id": "8df7a4e1",
   "metadata": {},
   "source": [
    "### Removing entries with missing values"
   ]
  },
  {
   "cell_type": "code",
   "execution_count": null,
   "id": "5079abd9",
   "metadata": {
    "execution": {
     "iopub.status.busy": "2023-11-13T21:12:56.285537Z",
     "iopub.status.idle": "2023-11-13T21:12:56.286198Z",
     "shell.execute_reply": "2023-11-13T21:12:56.285824Z",
     "shell.execute_reply.started": "2023-11-13T21:12:56.285799Z"
    }
   },
   "outputs": [],
   "source": [
    "print(\" \\nTotal numner of missing values of each column: \\n\\n\", df.isnull().sum())"
   ]
  },
  {
   "cell_type": "code",
   "execution_count": null,
   "id": "55fe52bd",
   "metadata": {
    "execution": {
     "iopub.status.busy": "2023-11-13T21:12:56.288623Z",
     "iopub.status.idle": "2023-11-13T21:12:56.289387Z",
     "shell.execute_reply": "2023-11-13T21:12:56.289173Z",
     "shell.execute_reply.started": "2023-11-13T21:12:56.289143Z"
    }
   },
   "outputs": [],
   "source": [
    "df = df.dropna()"
   ]
  },
  {
   "cell_type": "code",
   "execution_count": null,
   "id": "2970e25f",
   "metadata": {
    "execution": {
     "iopub.status.busy": "2023-11-13T21:12:56.290607Z",
     "iopub.status.idle": "2023-11-13T21:12:56.291808Z",
     "shell.execute_reply": "2023-11-13T21:12:56.291593Z",
     "shell.execute_reply.started": "2023-11-13T21:12:56.291565Z"
    }
   },
   "outputs": [],
   "source": [
    "print(\" \\nTotal numner of missing values of each column: \\n\\n\", df.isnull().sum())"
   ]
  },
  {
   "cell_type": "code",
   "execution_count": null,
   "id": "253dbef4",
   "metadata": {
    "execution": {
     "iopub.status.busy": "2023-11-13T21:12:56.293527Z",
     "iopub.status.idle": "2023-11-13T21:12:56.293999Z",
     "shell.execute_reply": "2023-11-13T21:12:56.293796Z",
     "shell.execute_reply.started": "2023-11-13T21:12:56.293771Z"
    }
   },
   "outputs": [],
   "source": [
    "df"
   ]
  },
  {
   "cell_type": "markdown",
   "id": "dccd6d26",
   "metadata": {},
   "source": [
    "### Reading Area names from CommAreas.csv"
   ]
  },
  {
   "cell_type": "code",
   "execution_count": null,
   "id": "6d567880",
   "metadata": {
    "execution": {
     "iopub.status.busy": "2023-11-13T21:12:56.295389Z",
     "iopub.status.idle": "2023-11-13T21:12:56.295834Z",
     "shell.execute_reply": "2023-11-13T21:12:56.295635Z",
     "shell.execute_reply.started": "2023-11-13T21:12:56.295611Z"
    },
    "scrolled": false
   },
   "outputs": [],
   "source": [
    "areas = pd.read_csv('CommAreas.csv')[['AREA_NUMBE', 'COMMUNITY']]"
   ]
  },
  {
   "cell_type": "code",
   "execution_count": null,
   "id": "89aaaa3a",
   "metadata": {
    "execution": {
     "iopub.status.busy": "2023-11-13T21:12:56.297588Z",
     "iopub.status.idle": "2023-11-13T21:12:56.298033Z",
     "shell.execute_reply": "2023-11-13T21:12:56.297835Z",
     "shell.execute_reply.started": "2023-11-13T21:12:56.297811Z"
    }
   },
   "outputs": [],
   "source": [
    "with pd.option_context('display.max_rows', None,):\n",
    "   print(areas)"
   ]
  },
  {
   "cell_type": "markdown",
   "id": "fb83b0a1",
   "metadata": {},
   "source": [
    "### Merging both data"
   ]
  },
  {
   "cell_type": "code",
   "execution_count": null,
   "id": "d4d564ac",
   "metadata": {
    "execution": {
     "iopub.status.busy": "2023-11-13T21:12:56.301647Z",
     "iopub.status.idle": "2023-11-13T21:12:56.302142Z",
     "shell.execute_reply": "2023-11-13T21:12:56.301907Z",
     "shell.execute_reply.started": "2023-11-13T21:12:56.301882Z"
    }
   },
   "outputs": [],
   "source": [
    "chi_crime = df.merge(areas, how='inner', left_on='Community Area', right_on='AREA_NUMBE').drop(['Community Area'], axis=1)"
   ]
  },
  {
   "cell_type": "code",
   "execution_count": null,
   "id": "b79f75e3",
   "metadata": {},
   "outputs": [],
   "source": [
    "chi_crime[['Date', 'Primary Type', 'Location Description', 'Arrest', 'Domestic', 'Year', 'Area Number', 'Community Area']]=chi_crime[['Date', 'Primary Type', 'Location Description', 'Arrest', 'Domestic', 'Year', 'AREA_NUMBE', 'COMMUNITY']]\n",
    "chi_crime = chi_crime.drop(['AREA_NUMBE', 'COMMUNITY'], axis=1)\n",
    "chi_crime.head()"
   ]
  },
  {
   "cell_type": "markdown",
   "id": "3f10f265",
   "metadata": {},
   "source": [
    "### Converting Date to DataTime for further analysis"
   ]
  },
  {
   "cell_type": "code",
   "execution_count": null,
   "id": "ba11a347",
   "metadata": {
    "execution": {
     "iopub.status.busy": "2023-11-13T21:12:56.304118Z",
     "iopub.status.idle": "2023-11-13T21:12:56.304604Z",
     "shell.execute_reply": "2023-11-13T21:12:56.304401Z",
     "shell.execute_reply.started": "2023-11-13T21:12:56.304376Z"
    }
   },
   "outputs": [],
   "source": [
    "chi_crime['DateTime'] = pd.to_datetime(chi_crime['Date'], format='%m/%d/%Y %I:%M:%S %p')\n",
    "chi_crime['DateTime']"
   ]
  },
  {
   "cell_type": "markdown",
   "id": "f3dfd763",
   "metadata": {},
   "source": [
    "### Extracting Hour and Day from DateTime"
   ]
  },
  {
   "cell_type": "code",
   "execution_count": null,
   "id": "1309c543",
   "metadata": {
    "execution": {
     "iopub.status.busy": "2023-11-13T21:12:56.306763Z",
     "iopub.status.idle": "2023-11-13T21:12:56.307245Z",
     "shell.execute_reply": "2023-11-13T21:12:56.306999Z",
     "shell.execute_reply.started": "2023-11-13T21:12:56.306978Z"
    }
   },
   "outputs": [],
   "source": [
    "chi_crime['Hour'] = chi_crime['DateTime'].dt.hour"
   ]
  },
  {
   "cell_type": "code",
   "execution_count": null,
   "id": "51e3fbc9",
   "metadata": {
    "execution": {
     "iopub.status.busy": "2023-11-13T21:12:56.308981Z",
     "iopub.status.idle": "2023-11-13T21:12:56.309814Z",
     "shell.execute_reply": "2023-11-13T21:12:56.309603Z",
     "shell.execute_reply.started": "2023-11-13T21:12:56.309578Z"
    }
   },
   "outputs": [],
   "source": [
    "chi_crime['Day'] = chi_crime['DateTime'].dt.strftime('%d')"
   ]
  },
  {
   "cell_type": "code",
   "execution_count": null,
   "id": "6e05abf5",
   "metadata": {},
   "outputs": [],
   "source": [
    "chi_crime['Month'] = chi_crime['DateTime'].dt.strftime('%m')"
   ]
  },
  {
   "cell_type": "code",
   "execution_count": null,
   "id": "e074c40f",
   "metadata": {
    "execution": {
     "iopub.status.busy": "2023-11-13T21:12:56.311266Z",
     "iopub.status.idle": "2023-11-13T21:12:56.312058Z",
     "shell.execute_reply": "2023-11-13T21:12:56.311852Z",
     "shell.execute_reply.started": "2023-11-13T21:12:56.311828Z"
    },
    "scrolled": false
   },
   "outputs": [],
   "source": [
    "chi_crime = chi_crime.drop(['DateTime'], axis=1)\n",
    "chi_crime"
   ]
  },
  {
   "cell_type": "code",
   "execution_count": null,
   "id": "39bd9563",
   "metadata": {
    "execution": {
     "iopub.status.busy": "2023-11-13T21:12:56.313494Z",
     "iopub.status.idle": "2023-11-13T21:12:56.314349Z",
     "shell.execute_reply": "2023-11-13T21:12:56.314133Z",
     "shell.execute_reply.started": "2023-11-13T21:12:56.314082Z"
    }
   },
   "outputs": [],
   "source": [
    "Num_crimes_type = chi_crime['Primary Type'].value_counts()\n",
    "type = pd.DataFrame(data=Num_crimes_type.index, columns=[\"Primary Type\"])\n",
    "type['values'] = Num_crimes_type.values"
   ]
  },
  {
   "cell_type": "code",
   "execution_count": null,
   "id": "4823fc6a",
   "metadata": {},
   "outputs": [],
   "source": [
    "print(type['Primary Type'])"
   ]
  },
  {
   "cell_type": "code",
   "execution_count": null,
   "id": "6ffafc50",
   "metadata": {
    "scrolled": false
   },
   "outputs": [],
   "source": [
    "chi_crime['Type Code'], _ = pd.factorize(chi_crime['Primary Type'])\n",
    "chi_crime['Location Code'], _ = pd.factorize(chi_crime['Location Description'])\n",
    "chi_crime.head()"
   ]
  },
  {
   "cell_type": "markdown",
   "id": "dd8a8080",
   "metadata": {},
   "source": [
    "### Pie Plot showing Top 10 crimes in Chicago"
   ]
  },
  {
   "cell_type": "code",
   "execution_count": null,
   "id": "a368a6b0",
   "metadata": {
    "execution": {
     "iopub.status.busy": "2023-11-13T21:12:56.315816Z",
     "iopub.status.idle": "2023-11-13T21:12:56.316653Z",
     "shell.execute_reply": "2023-11-13T21:12:56.316448Z",
     "shell.execute_reply.started": "2023-11-13T21:12:56.316422Z"
    }
   },
   "outputs": [],
   "source": [
    "fig = px.pie(type[:10], values='values', names='Primary Type', title='Top 10 Crime Types', color_discrete_sequence=px.colors.sequential.RdBu)\n",
    "fig.show()"
   ]
  },
  {
   "cell_type": "code",
   "execution_count": null,
   "id": "099ee414",
   "metadata": {
    "execution": {
     "iopub.status.busy": "2023-11-13T21:12:56.318035Z",
     "iopub.status.idle": "2023-11-13T21:12:56.318822Z",
     "shell.execute_reply": "2023-11-13T21:12:56.318611Z",
     "shell.execute_reply.started": "2023-11-13T21:12:56.318585Z"
    }
   },
   "outputs": [],
   "source": [
    "Number_crimes = chi_crime['Community Area'].value_counts()\n",
    "values = Number_crimes.values\n",
    "categories = pd.DataFrame(data=Number_crimes.index, columns=[\"Community Area\"])\n",
    "categories['values'] = values"
   ]
  },
  {
   "cell_type": "markdown",
   "id": "da8b1a01",
   "metadata": {},
   "source": [
    "### Treemap showing Crime density by Area"
   ]
  },
  {
   "cell_type": "code",
   "execution_count": null,
   "id": "0e7c2033",
   "metadata": {
    "execution": {
     "iopub.status.busy": "2023-11-13T21:12:56.320206Z",
     "iopub.status.idle": "2023-11-13T21:12:56.320965Z",
     "shell.execute_reply": "2023-11-13T21:12:56.320758Z",
     "shell.execute_reply.started": "2023-11-13T21:12:56.320732Z"
    }
   },
   "outputs": [],
   "source": [
    "fig = px.treemap(categories, path=['Community Area'], values=categories['values'], height=900,\n",
    "                 title='Crime in Chicago by Community', color_discrete_sequence = px.colors.sequential.RdBu)\n",
    "fig.data[0].textinfo = 'label+text+value'\n",
    "fig.show()"
   ]
  },
  {
   "cell_type": "markdown",
   "id": "136c0ef9",
   "metadata": {},
   "source": [
    "### Histogram showing Chicago Crime by Year"
   ]
  },
  {
   "cell_type": "code",
   "execution_count": null,
   "id": "eb801c6b",
   "metadata": {
    "execution": {
     "iopub.status.busy": "2023-11-13T21:12:56.322450Z",
     "iopub.status.idle": "2023-11-13T21:12:56.322916Z",
     "shell.execute_reply": "2023-11-13T21:12:56.322707Z",
     "shell.execute_reply.started": "2023-11-13T21:12:56.322682Z"
    }
   },
   "outputs": [],
   "source": [
    "fig = px.histogram(chi_crime, x='Year',color='Year')\n",
    "fig.update_layout(\n",
    "        title_text='Chicago Crime by Year',\n",
    "        xaxis_title_text='Crime', \n",
    "        yaxis_title_text='Count', \n",
    "        bargap=0.2, \n",
    "        bargroupgap=0.1\n",
    "    )\n",
    "fig.show()"
   ]
  },
  {
   "cell_type": "code",
   "execution_count": null,
   "id": "70babbc3",
   "metadata": {
    "execution": {
     "iopub.status.busy": "2023-11-13T21:12:56.324362Z",
     "iopub.status.idle": "2023-11-13T21:12:56.324806Z",
     "shell.execute_reply": "2023-11-13T21:12:56.324600Z",
     "shell.execute_reply.started": "2023-11-13T21:12:56.324577Z"
    }
   },
   "outputs": [],
   "source": [
    "num_arrest = chi_crime['Arrest'].value_counts()\n",
    "print(num_arrest.index)\n",
    "arrest = pd.DataFrame(data=num_arrest.index, columns=[\"Arrested\"])\n",
    "arrest['Arrested']=num_arrest.index\n",
    "arrest['values'] = num_arrest.values\n",
    "arrest = arrest.replace({'Arrested': {True: 'Yes', False: 'No'}})\n",
    "print(arrest)"
   ]
  },
  {
   "cell_type": "code",
   "execution_count": null,
   "id": "d557309d",
   "metadata": {
    "execution": {
     "iopub.status.busy": "2023-11-13T21:12:56.326559Z",
     "iopub.status.idle": "2023-11-13T21:12:56.327052Z",
     "shell.execute_reply": "2023-11-13T21:12:56.326838Z",
     "shell.execute_reply.started": "2023-11-13T21:12:56.326813Z"
    }
   },
   "outputs": [],
   "source": [
    "num_domestic = chi_crime['Domestic'].value_counts()\n",
    "print(num_domestic.index)\n",
    "domestic = pd.DataFrame(data=num_domestic.index, columns=[\"Domestic\"])\n",
    "\n",
    "domestic['values'] = num_domestic.values\n",
    "domestic = domestic.replace({'Domestic': {True: 'Yes', False: 'No'}})\n",
    "print(domestic)"
   ]
  },
  {
   "cell_type": "code",
   "execution_count": null,
   "id": "6873c8e4",
   "metadata": {
    "execution": {
     "iopub.status.busy": "2023-11-13T21:12:56.328617Z",
     "iopub.status.idle": "2023-11-13T21:12:56.329092Z",
     "shell.execute_reply": "2023-11-13T21:12:56.328869Z",
     "shell.execute_reply.started": "2023-11-13T21:12:56.328846Z"
    }
   },
   "outputs": [],
   "source": [
    "fig = make_subplots(rows=1, cols=2, specs=[[{\"type\": \"pie\"}, {\"type\": \"pie\"}]])"
   ]
  },
  {
   "cell_type": "markdown",
   "id": "f7f64a37",
   "metadata": {},
   "source": [
    "### Pie Plot showing some more information about each crime"
   ]
  },
  {
   "cell_type": "code",
   "execution_count": null,
   "id": "da3b0183",
   "metadata": {
    "execution": {
     "iopub.status.busy": "2023-11-13T21:12:56.330500Z",
     "iopub.status.idle": "2023-11-13T21:12:56.330950Z",
     "shell.execute_reply": "2023-11-13T21:12:56.330742Z",
     "shell.execute_reply.started": "2023-11-13T21:12:56.330720Z"
    }
   },
   "outputs": [],
   "source": [
    "fig.add_trace(go.Pie(labels=arrest['Arrested'], values=arrest['values'], hole=.5, name=\"Arrested\", title='Arrested'), row=1, col=1)\n",
    "fig.add_trace(go.Pie(labels=domestic['Domestic'], values=domestic['values'], hole=.5, name='Domestic', title='Domestic Related'), row=1, col=2)\n",
    "fig.update_layout(\n",
    "    title_text='Chicago Crime over the years',\n",
    ")\n",
    "fig.show()"
   ]
  },
  {
   "cell_type": "markdown",
   "id": "f7baba50",
   "metadata": {},
   "source": [
    "### Creating Correlation Matrix"
   ]
  },
  {
   "cell_type": "code",
   "execution_count": null,
   "id": "535fc366",
   "metadata": {
    "execution": {
     "iopub.status.busy": "2023-11-13T21:12:56.418945Z",
     "iopub.status.idle": "2023-11-13T21:12:56.419647Z",
     "shell.execute_reply": "2023-11-13T21:12:56.419442Z",
     "shell.execute_reply.started": "2023-11-13T21:12:56.419416Z"
    }
   },
   "outputs": [],
   "source": [
    "chi_crime_correlation = chi_crime[['Type Code', 'Location Code']]\n",
    "chi_crime_correlation['Arrest'], _ = pd.factorize(chi_crime['Arrest'])\n",
    "chi_crime_correlation['Domestic'], _ = pd.factorize(chi_crime['Domestic'])\n",
    "chi_crime_correlation[['Area Number', 'Year', 'Month', 'Day', 'Hour']] = chi_crime[['Area Number', 'Year', 'Month', 'Day', 'Hour']]\n",
    "chi_crime_correlation.head()"
   ]
  },
  {
   "cell_type": "code",
   "execution_count": null,
   "id": "4fdd3c3c",
   "metadata": {},
   "outputs": [],
   "source": [
    "correlation_matrix = chi_crime_correlation.corr()\n",
    "\n",
    "print(correlation_matrix)"
   ]
  },
  {
   "cell_type": "code",
   "execution_count": null,
   "id": "4952eaa3",
   "metadata": {},
   "outputs": [],
   "source": [
    "import seaborn as sns\n",
    "# Create a heatmap for the correlation matrix\n",
    "plt.figure(figsize=(10, 8))\n",
    "sns.heatmap(correlation_matrix, annot=True, fmt=\".2f\", cmap='coolwarm')\n",
    "plt.title(\"Correlation Matrix Heatmap\")\n",
    "plt.tight_layout()\n",
    "plt.show()"
   ]
  },
  {
   "cell_type": "code",
   "execution_count": null,
   "id": "bd9f57d6",
   "metadata": {},
   "outputs": [],
   "source": []
  }
 ],
 "metadata": {
  "kernelspec": {
   "display_name": "Python 3 (ipykernel)",
   "language": "python",
   "name": "python3"
  },
  "language_info": {
   "codemirror_mode": {
    "name": "ipython",
    "version": 3
   },
   "file_extension": ".py",
   "mimetype": "text/x-python",
   "name": "python",
   "nbconvert_exporter": "python",
   "pygments_lexer": "ipython3",
   "version": "3.9.18"
  }
 },
 "nbformat": 4,
 "nbformat_minor": 5
}
